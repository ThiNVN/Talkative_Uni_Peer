{
 "cells": [
  {
   "cell_type": "code",
   "execution_count": 1,
   "metadata": {},
   "outputs": [
    {
     "name": "stdout",
     "output_type": "stream",
     "text": [
      "WARNING:tensorflow:From c:\\Users\\ASUS\\.conda\\envs\\shop\\lib\\site-packages\\tf_keras\\src\\losses.py:2976: The name tf.losses.sparse_softmax_cross_entropy is deprecated. Please use tf.compat.v1.losses.sparse_softmax_cross_entropy instead.\n",
      "\n"
     ]
    }
   ],
   "source": [
    "from sentence_transformers import SentenceTransformer\n",
    "import faiss\n",
    "import numpy as np\n",
    "import json\n",
    "import google.generativeai as genai\n",
    "import os\n",
    "from dotenv import load_dotenv"
   ]
  },
  {
   "cell_type": "code",
   "execution_count": 2,
   "metadata": {},
   "outputs": [],
   "source": [
    "with open(\"newDataset.json\", \"r\", encoding=\"utf-8\") as f:\n",
    "    data = json.load(f)\n",
    "\n",
    "contexts = [entry[\"context\"] for entry in data]\n",
    "questions = [entry[\"question\"] for entry in data]"
   ]
  },
  {
   "cell_type": "code",
   "execution_count": 3,
   "metadata": {},
   "outputs": [],
   "source": [
    "# Step 1: Embed contexts\n",
    "model = SentenceTransformer(\"sentence-transformers/paraphrase-multilingual-MiniLM-L12-v2\")\n",
    "embeddings = model.encode(contexts, convert_to_numpy=True)"
   ]
  },
  {
   "cell_type": "code",
   "execution_count": 4,
   "metadata": {},
   "outputs": [],
   "source": [
    "# Step 2: Create FAISS index\n",
    "index = faiss.IndexFlatL2(embeddings.shape[1])\n",
    "index.add(embeddings)"
   ]
  },
  {
   "cell_type": "code",
   "execution_count": 5,
   "metadata": {},
   "outputs": [],
   "source": [
    "# Save for later use\n",
    "faiss.write_index(index, \"context.index\")\n",
    "np.save(\"contexts.npy\", np.array(contexts))"
   ]
  },
  {
   "cell_type": "code",
   "execution_count": 6,
   "metadata": {},
   "outputs": [],
   "source": [
    "genai.configure(api_key=os.getenv(\"GEMINI_API_KEY\"))\n",
    "llm = genai.GenerativeModel(\"gemini-2.0-flash\")\n",
    "\n",
    "# Load index and data\n",
    "index = faiss.read_index(\"context.index\")\n",
    "contexts = np.load(\"contexts.npy\", allow_pickle=True)\n",
    "embed_model = SentenceTransformer(\"sentence-transformers/paraphrase-multilingual-MiniLM-L12-v2\")\n",
    "\n",
    "def generate_answer(query: str, top_k=1):\n",
    "    query_vec = embed_model.encode([query])\n",
    "    D, I = index.search(query_vec, top_k)\n",
    "    retrieved_context = \"\\n\".join([contexts[i] for i in I[0]])\n",
    "\n",
    "    prompt = f\"\"\"\n",
    "Câu hỏi: {query}\n",
    "Nội dung nội quy liên quan:\n",
    "{retrieved_context}\n",
    "\n",
    "Trả lời ngắn gọn, chính xác dựa trên nội dung trên:\n",
    "\"\"\"\n",
    "    response = llm.generate_content(prompt)\n",
    "    return response.text.strip()"
   ]
  },
  {
   "cell_type": "code",
   "execution_count": 8,
   "metadata": {},
   "outputs": [
    {
     "name": "stdout",
     "output_type": "stream",
     "text": [
      "Không, sinh viên không được hút thuốc hoặc uống rượu bia trong trường.\n"
     ]
    }
   ],
   "source": [
    "print(generate_answer(\"Sinh viên có được hút thuốc hoặc uống rượu bia trong trường không?\"))"
   ]
  }
 ],
 "metadata": {
  "kernelspec": {
   "display_name": "shop",
   "language": "python",
   "name": "python3"
  },
  "language_info": {
   "codemirror_mode": {
    "name": "ipython",
    "version": 3
   },
   "file_extension": ".py",
   "mimetype": "text/x-python",
   "name": "python",
   "nbconvert_exporter": "python",
   "pygments_lexer": "ipython3",
   "version": "3.10.15"
  }
 },
 "nbformat": 4,
 "nbformat_minor": 2
}
